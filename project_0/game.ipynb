{
 "cells": [
  {
   "cell_type": "markdown",
   "metadata": {},
   "source": [
    "# Игра угадай число"
   ]
  },
  {
   "cell_type": "code",
   "execution_count": 1,
   "metadata": {},
   "outputs": [],
   "source": [
    "from game_v2 import score_game\n",
    "from game_v2 import random_predict"
   ]
  },
  {
   "cell_type": "markdown",
   "metadata": {},
   "source": [
    "## Узнаем сколько попыток потребуется алгоритму для \"угадывания\" числа"
   ]
  },
  {
   "cell_type": "code",
   "execution_count": 2,
   "metadata": {},
   "outputs": [
    {
     "name": "stdout",
     "output_type": "stream",
     "text": [
      "Your algorithm guesses the number in an average of: 5 tries\n"
     ]
    },
    {
     "data": {
      "text/plain": [
       "5"
      ]
     },
     "execution_count": 2,
     "metadata": {},
     "output_type": "execute_result"
    }
   ],
   "source": [
    "score_game(random_predict)"
   ]
  },
  {
   "cell_type": "markdown",
   "metadata": {},
   "source": []
  },
  {
   "cell_type": "code",
   "execution_count": 7,
   "metadata": {},
   "outputs": [
    {
     "name": "stdout",
     "output_type": "stream",
     "text": [
      "Make a guess between 1 and 100: <-22\n",
      "Your algorithm guesses the number in an average of: 7 tries\n"
     ]
    }
   ],
   "source": [
    "import numpy as np\n",
    "\n",
    "\n",
    "def random_predict(number:int=1)->int:\n",
    "    \"\"\" Randomly guess the number by narrowing the range\n",
    "\n",
    "    Args:\n",
    "        number (int, optional): The hidden number. Defaults to 1.\n",
    "\n",
    "    Returns:\n",
    "        int: Number of tries\n",
    "    \"\"\"\n",
    "    \n",
    "    count = 1\n",
    "    low_range_limit = 1\n",
    "    upper_range_limit = 101\n",
    "    predict_number = 51\n",
    "    \n",
    "    while predict_number != number:\n",
    "        count += 1\n",
    "        if predict_number > number:\n",
    "            upper_range_limit = predict_number\n",
    "        elif predict_number < number:\n",
    "            low_range_limit = predict_number\n",
    "        predict_number = np.random.randint(low_range_limit, upper_range_limit) # estimated number\n",
    "                      \n",
    "    return count\n",
    "\n",
    "print(f\"Your algorithm guesses the number in an average of: {random_predict(int(input('Make a guess between 1 and 100: <-')))} tries\")\n"
   ]
  },
  {
   "cell_type": "code",
   "execution_count": null,
   "metadata": {},
   "outputs": [],
   "source": []
  }
 ],
 "metadata": {
  "interpreter": {
   "hash": "fd2d63775d6b861368f2b68b88b1b40a35d08c6b96cd47d9eb8c9533c1d8ad02"
  },
  "kernelspec": {
   "display_name": "Python 3 (ipykernel)",
   "language": "python",
   "name": "python3"
  },
  "language_info": {
   "codemirror_mode": {
    "name": "ipython",
    "version": 3
   },
   "file_extension": ".py",
   "mimetype": "text/x-python",
   "name": "python",
   "nbconvert_exporter": "python",
   "pygments_lexer": "ipython3",
   "version": "3.9.7"
  }
 },
 "nbformat": 4,
 "nbformat_minor": 2
}
