{
 "cells": [
  {
   "cell_type": "markdown",
   "metadata": {
    "id": "dWcE-y-N-2fE"
   },
   "source": [
    "# Угадай число\n",
    "Нужно написать программу, которая угадывает число за минимальное число попыток.\n",
    "\n",
    "## Условия соревнования\n",
    "- Компьютер загадывает целое число от 1 до 100, и нам его нужно угадать. Под «угадать», подразумевается «написать программу, которая угадывает число».    \n",
    "- Алгоритм учитывает информацию о том, больше ли случайное число или меньше нужного нам.\n",
    "- Необходимо добиться того, чтобы программа угадывала число меньше, чем за 20 попыток. \n"
   ]
  },
  {
   "cell_type": "markdown",
   "metadata": {
    "id": "4sShzLei_ClF"
   },
   "source": [
    "Импортируем библиотеку, которая нам пригодится для генерации случайных чисел:"
   ]
  },
  {
   "cell_type": "code",
   "execution_count": 1,
   "metadata": {
    "id": "KIy8PgXL-2fH"
   },
   "outputs": [],
   "source": [
    "import numpy as np\n",
    "from numpy import random"
   ]
  },
  {
   "cell_type": "markdown",
   "metadata": {
    "id": "shciKwTp-2fJ"
   },
   "source": [
    "## Подход 1: Случайное угадывание"
   ]
  },
  {
   "cell_type": "markdown",
   "metadata": {
    "id": "XCYf-uZa-_Oa"
   },
   "source": [
    "Простейший способ решения: научить программу случайным образом выбирать число до тех пор, пока оно не будет угадано. Этот способ не дает хорошего результата, однако будет для нас хорошей стартовой точкой."
   ]
  },
  {
   "cell_type": "code",
   "execution_count": 2,
   "metadata": {
    "id": "pJaQGNND-2fK"
   },
   "outputs": [],
   "source": [
    "def random_predict(number: int = 1) -> int:\n",
    "    \"\"\"We just guess at random, without using any information about more or less.\n",
    "        The function takes a hidden number and returns the number of attempts\n",
    "    Args:\n",
    "        number (int, optional): Hidden number. Defaults to 1.\n",
    "\n",
    "    Returns:\n",
    "        int: Number of tries\n",
    "    \"\"\"\n",
    "    count = 0\n",
    "\n",
    "    while True:\n",
    "        count += 1\n",
    "        predict_number = np.random.randint(1, 101)  # estimated number\n",
    "        if number == predict_number:\n",
    "            break  # Exit the cycle if guessed\n",
    "    \n",
    "    return count\n"
   ]
  },
  {
   "cell_type": "code",
   "execution_count": 3,
   "metadata": {
    "colab": {
     "base_uri": "https://localhost:8080/"
    },
    "id": "pPMEWSbYc4Jl",
    "outputId": "d97a17ba-b2fa-4439-951d-a84f90c4d408"
   },
   "outputs": [
    {
     "data": {
      "text/plain": [
       "1"
      ]
     },
     "execution_count": 3,
     "metadata": {},
     "output_type": "execute_result"
    }
   ],
   "source": [
    "random_predict(5)"
   ]
  },
  {
   "cell_type": "markdown",
   "metadata": {
    "id": "Da8TSXrE_2QC"
   },
   "source": [
    "## Подход 2: Угадывание с коррекцией"
   ]
  },
  {
   "cell_type": "markdown",
   "metadata": {
    "id": "UeFYnSZi_7uZ"
   },
   "source": [
    "Сначала устанавливаем любое случайное число, а потом уменьшаем или увеличиваем его в зависимости от того, больше оно или меньше нужного."
   ]
  },
  {
   "cell_type": "code",
   "execution_count": 4,
   "metadata": {
    "colab": {
     "base_uri": "https://localhost:8080/"
    },
    "id": "bFzp7ROY_QYY",
    "outputId": "e3e0385f-9586-40b9-f858-3c357ee2aaa0"
   },
   "outputs": [
    {
     "data": {
      "text/plain": [
       "60"
      ]
     },
     "execution_count": 4,
     "metadata": {},
     "output_type": "execute_result"
    }
   ],
   "source": [
    "def game_core_v2(number: int = 1) -> int:\n",
    "    \"\"\"First we set any random number, and then decrease\n",
    "    or increment it, depending on whether it is higher or lower than the desired number.\n",
    "       The function takes a guessed number and returns the number of tries\n",
    "       \n",
    "    Args:\n",
    "        number (int, optional): Hidden number. Defaults to 1.\n",
    "\n",
    "    Returns:\n",
    "        int: Number of tries\n",
    "    \"\"\"\n",
    "    predict_number = np.random.randint(1, 101)\n",
    "    count = 1\n",
    "        \n",
    "    while number != predict_number:\n",
    "        count += 1\n",
    "        if number > predict_number:\n",
    "            predict_number += 1\n",
    "        elif number < predict_number:\n",
    "            predict_number -= 1\n",
    "\n",
    "    return count\n",
    "\n",
    "\n",
    "game_core_v2(99)"
   ]
  },
  {
   "cell_type": "markdown",
   "metadata": {},
   "source": [
    "## Подход 3: Угадывание с коррекцией и сужением диапазона"
   ]
  },
  {
   "cell_type": "markdown",
   "metadata": {},
   "source": [
    "Сначала устанавливаем любое случайное число, а потом ограничиваем диапазон поиска, сверху или снизу, в зависимости от того, больше оно или меньше нужного.\n",
    "И снова устанавливаем случайное число."
   ]
  },
  {
   "cell_type": "code",
   "execution_count": 5,
   "metadata": {
    "id": "pZPOs1ljRyuz"
   },
   "outputs": [
    {
     "data": {
      "text/plain": [
       "16"
      ]
     },
     "execution_count": 5,
     "metadata": {},
     "output_type": "execute_result"
    }
   ],
   "source": [
    "import numpy as np\n",
    "from numpy import random\n",
    "def game_core_v3(number: int = 1) -> int:\n",
    "    \"\"\"First, we set any random number, and then we limit the search range,\n",
    "    top or bottom, depending on whether it is larger or smaller\n",
    "    than the desired number.\n",
    "    The function takes a guessed number and returns the number of tries\n",
    "       \n",
    "    Args:\n",
    "        number (int, optional): Hidden number. Defaults to 1.\n",
    "\n",
    "    Returns:\n",
    "        int: Number of tries\n",
    "    \"\"\"\n",
    "    low_range_limit = 1\n",
    "    upper_range_limit = 101\n",
    "    predict_number = np.random.randint(1, 101)\n",
    "    count = 1\n",
    "    \n",
    "    while predict_number != number:\n",
    "        count += 1\n",
    "        if predict_number > number:\n",
    "            upper_range_limit = predict_number\n",
    "        elif predict_number < number:\n",
    "            low_range_limit = predict_number\n",
    "        predict_number = np.random.randint(low_range_limit, upper_range_limit)\n",
    "            \n",
    "    return count\n",
    "\n",
    "\n",
    "game_core_v3(35)\n"
   ]
  },
  {
   "cell_type": "markdown",
   "metadata": {},
   "source": [
    "## Подход 4: Угадывание с сужением диапазона, с каждой неудачной попыткой, наполовину"
   ]
  },
  {
   "cell_type": "markdown",
   "metadata": {},
   "source": [
    "Сначала устанавливаем число, являющееся серединой диапазона. Тем самым сужая диапазон наполовину. \n",
    "Затем ограничиваем диапазон поиска, сверху или снизу, в зависимости от того, больше оно или меньше нужного.\n",
    "Снова устанавливаем число, являющееся серединой диапазона."
   ]
  },
  {
   "cell_type": "code",
   "execution_count": 6,
   "metadata": {},
   "outputs": [
    {
     "data": {
      "text/plain": [
       "6"
      ]
     },
     "execution_count": 6,
     "metadata": {},
     "output_type": "execute_result"
    }
   ],
   "source": [
    "def game_core_v4(number:int=1)->int:\n",
    "    \"\"\" First, we set the number that is the middle of the range. \n",
    "    Thus, narrowing the range in half. Then we limit the search range,\n",
    "    top or bottom, depending on whether it is greater or less than the desired one. \n",
    "    Set the number to the middle of the range again.\n",
    "    \n",
    "    Args:\n",
    "        number (int, optional): The hidden number. Defaults to 1.\n",
    "\n",
    "    Returns:\n",
    "        int: Number of tries\n",
    "    \"\"\"\n",
    "    \n",
    "    low_range_limit = 1\n",
    "    upper_range_limit = 101\n",
    "    predict_number = 51  # Narrowing the range by half\n",
    "    count = 1\n",
    "    \n",
    "    while predict_number != number:\n",
    "        count += 1\n",
    "        if predict_number > number:\n",
    "            upper_range_limit = predict_number\n",
    "        elif predict_number < number:\n",
    "            low_range_limit = predict_number\n",
    "        predict_number = (upper_range_limit + low_range_limit) // 2  # Narrowing the range by half again\n",
    "                      \n",
    "    return count\n",
    "\n",
    "\n",
    "game_core_v4(52)\n"
   ]
  },
  {
   "cell_type": "markdown",
   "metadata": {
    "id": "t3rDQ1wTBaXC"
   },
   "source": [
    "Посмотрим, как эти программы справляются с задачей."
   ]
  },
  {
   "cell_type": "markdown",
   "metadata": {
    "id": "GCu4m8fu_-al"
   },
   "source": [
    "## Функция для оценки"
   ]
  },
  {
   "cell_type": "markdown",
   "metadata": {
    "id": "7ZlAJ37fAJ99"
   },
   "source": [
    "Эта функция необходима, чтобы определить, за какое число попыток, в среднем, программа угадывает число."
   ]
  },
  {
   "cell_type": "code",
   "execution_count": 7,
   "metadata": {
    "id": "t4WXEDFS_ThY"
   },
   "outputs": [],
   "source": [
    "def score_game(random_predict) -> int:\n",
    "    \"\"\"For how many attempts, on average, 1000 approaches, our algorithm guesses.\n",
    "\n",
    "    Args:\n",
    "        random_predict ([type]): guessing function\n",
    "\n",
    "    Returns:\n",
    "        int: average number of attempts\n",
    "    \"\"\"\n",
    "\n",
    "    count_ls = [] # list to save the number of attempts\n",
    "    random_array = np.random.randint(1, 101, size=(1000)) # riddle a list of numbers\n",
    "    \n",
    "    for number in random_array:\n",
    "        count_ls.append(random_predict(number))\n",
    "\n",
    "    score = int(np.mean(count_ls)) # find the average number of attempts\n",
    "\n",
    "    print(f'Your algorithm guesses the number in an average of: {score} tries')\n",
    "    "
   ]
  },
  {
   "cell_type": "markdown",
   "metadata": {
    "id": "PCC3-Hwz-2fL"
   },
   "source": [
    "### Оценка работы алгоритмов\n",
    "Определяем, какой подход лучше. "
   ]
  },
  {
   "cell_type": "code",
   "execution_count": 8,
   "metadata": {
    "colab": {
     "base_uri": "https://localhost:8080/"
    },
    "id": "khrxOcEB-2fM",
    "outputId": "66722d2f-4b11-491d-a251-b841a15e579b"
   },
   "outputs": [
    {
     "name": "stdout",
     "output_type": "stream",
     "text": [
      "Run benchmarking for random_predict: Your algorithm guesses the number in an average of: 106 tries\n",
      "Run benchmarking for game_core_v2: Your algorithm guesses the number in an average of: 34 tries\n",
      "Run benchmarking for game_core_v3: Your algorithm guesses the number in an average of: 8 tries\n",
      "Run benchmarking for game_core_v4: Your algorithm guesses the number in an average of: 5 tries\n"
     ]
    }
   ],
   "source": [
    "#Run benchmarking to score effectiveness of all algorithms\n",
    "print('Run benchmarking for random_predict: ', end='')\n",
    "score_game(random_predict)\n",
    "\n",
    "print('Run benchmarking for game_core_v2: ', end='')\n",
    "score_game(game_core_v2)\n",
    "\n",
    "print('Run benchmarking for game_core_v3: ', end='')\n",
    "score_game(game_core_v3)\n",
    "\n",
    "print('Run benchmarking for game_core_v4: ', end='')\n",
    "score_game(game_core_v4)"
   ]
  },
  {
   "cell_type": "markdown",
   "metadata": {},
   "source": []
  },
  {
   "cell_type": "markdown",
   "metadata": {},
   "source": [
    "### Выводы"
   ]
  },
  {
   "cell_type": "markdown",
   "metadata": {
    "id": "_H0wabPwBfRo"
   },
   "source": [
    "Как мы видим, две первые программы показывают не лучший результат.\n",
    "А из двух последних, \"game_core_4\" наиболее оптимальный алгоритм.\n",
    "Его и будем использовать для решения поставленной задачи."
   ]
  }
 ],
 "metadata": {
  "interpreter": {
   "hash": "fd2d63775d6b861368f2b68b88b1b40a35d08c6b96cd47d9eb8c9533c1d8ad02"
  },
  "kernelspec": {
   "display_name": "Python 3.9.7 64-bit ('base': conda)",
   "language": "python",
   "name": "python3"
  },
  "language_info": {
   "codemirror_mode": {
    "name": "ipython",
    "version": 3
   },
   "file_extension": ".py",
   "mimetype": "text/x-python",
   "name": "python",
   "nbconvert_exporter": "python",
   "pygments_lexer": "ipython3",
   "version": "3.9.7"
  },
  "orig_nbformat": 4
 },
 "nbformat": 4,
 "nbformat_minor": 2
}
